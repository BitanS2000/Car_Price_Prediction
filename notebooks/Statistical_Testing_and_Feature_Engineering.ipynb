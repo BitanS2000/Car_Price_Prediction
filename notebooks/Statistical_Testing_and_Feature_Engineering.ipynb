{
 "cells": [
  {
   "cell_type": "code",
   "execution_count": 2,
   "id": "4806f6f3-7370-4568-867e-d148a5ae9513",
   "metadata": {},
   "outputs": [],
   "source": [
    "import pandas as pd\n",
    "import numpy as np\n",
    "import seaborn as sns\n",
    "import matplotlib.pyplot as plt"
   ]
  },
  {
   "cell_type": "code",
   "execution_count": 3,
   "id": "96a846c6-4220-40ca-b1db-ce25b491ccfc",
   "metadata": {},
   "outputs": [
    {
     "data": {
      "text/html": [
       "<div>\n",
       "<style scoped>\n",
       "    .dataframe tbody tr th:only-of-type {\n",
       "        vertical-align: middle;\n",
       "    }\n",
       "\n",
       "    .dataframe tbody tr th {\n",
       "        vertical-align: top;\n",
       "    }\n",
       "\n",
       "    .dataframe thead th {\n",
       "        text-align: right;\n",
       "    }\n",
       "</style>\n",
       "<table border=\"1\" class=\"dataframe\">\n",
       "  <thead>\n",
       "    <tr style=\"text-align: right;\">\n",
       "      <th></th>\n",
       "      <th>year</th>\n",
       "      <th>make</th>\n",
       "      <th>model</th>\n",
       "      <th>trim</th>\n",
       "      <th>body</th>\n",
       "      <th>transmission</th>\n",
       "      <th>vin</th>\n",
       "      <th>state</th>\n",
       "      <th>condition</th>\n",
       "      <th>odometer</th>\n",
       "      <th>color</th>\n",
       "      <th>interior</th>\n",
       "      <th>seller</th>\n",
       "      <th>mmr</th>\n",
       "      <th>sellingprice</th>\n",
       "      <th>saledate</th>\n",
       "    </tr>\n",
       "  </thead>\n",
       "  <tbody>\n",
       "    <tr>\n",
       "      <th>0</th>\n",
       "      <td>2015.0</td>\n",
       "      <td>kia</td>\n",
       "      <td>sorento</td>\n",
       "      <td>lx</td>\n",
       "      <td>suv</td>\n",
       "      <td>automatic</td>\n",
       "      <td>5xyktca69fg566472</td>\n",
       "      <td>ca</td>\n",
       "      <td>5.0</td>\n",
       "      <td>16639.0</td>\n",
       "      <td>white</td>\n",
       "      <td>black</td>\n",
       "      <td>kia motors america  inc</td>\n",
       "      <td>20500.0</td>\n",
       "      <td>21500.0</td>\n",
       "      <td>2014-12-16 04:30:00+00:00</td>\n",
       "    </tr>\n",
       "    <tr>\n",
       "      <th>1</th>\n",
       "      <td>2015.0</td>\n",
       "      <td>kia</td>\n",
       "      <td>sorento</td>\n",
       "      <td>lx</td>\n",
       "      <td>suv</td>\n",
       "      <td>automatic</td>\n",
       "      <td>5xyktca69fg561319</td>\n",
       "      <td>ca</td>\n",
       "      <td>5.0</td>\n",
       "      <td>9393.0</td>\n",
       "      <td>white</td>\n",
       "      <td>beige</td>\n",
       "      <td>kia motors america  inc</td>\n",
       "      <td>20800.0</td>\n",
       "      <td>21500.0</td>\n",
       "      <td>2014-12-16 04:30:00+00:00</td>\n",
       "    </tr>\n",
       "    <tr>\n",
       "      <th>2</th>\n",
       "      <td>2014.0</td>\n",
       "      <td>bmw</td>\n",
       "      <td>3 series</td>\n",
       "      <td>other</td>\n",
       "      <td>sedan</td>\n",
       "      <td>automatic</td>\n",
       "      <td>wba3c1c51ek116351</td>\n",
       "      <td>ca</td>\n",
       "      <td>45.0</td>\n",
       "      <td>1331.0</td>\n",
       "      <td>gray</td>\n",
       "      <td>black</td>\n",
       "      <td>financial services remarketing (lease)</td>\n",
       "      <td>31900.0</td>\n",
       "      <td>30000.0</td>\n",
       "      <td>2015-01-14 20:30:00+00:00</td>\n",
       "    </tr>\n",
       "    <tr>\n",
       "      <th>3</th>\n",
       "      <td>2015.0</td>\n",
       "      <td>volvo</td>\n",
       "      <td>s60</td>\n",
       "      <td>t5</td>\n",
       "      <td>sedan</td>\n",
       "      <td>automatic</td>\n",
       "      <td>yv1612tb4f1310987</td>\n",
       "      <td>ca</td>\n",
       "      <td>41.0</td>\n",
       "      <td>14282.0</td>\n",
       "      <td>white</td>\n",
       "      <td>black</td>\n",
       "      <td>volvo na rep/world omni</td>\n",
       "      <td>27500.0</td>\n",
       "      <td>27750.0</td>\n",
       "      <td>2015-01-28 20:30:00+00:00</td>\n",
       "    </tr>\n",
       "    <tr>\n",
       "      <th>4</th>\n",
       "      <td>2014.0</td>\n",
       "      <td>bmw</td>\n",
       "      <td>6 series gran coupe</td>\n",
       "      <td>650i</td>\n",
       "      <td>sedan</td>\n",
       "      <td>automatic</td>\n",
       "      <td>wba6b2c57ed129731</td>\n",
       "      <td>ca</td>\n",
       "      <td>43.0</td>\n",
       "      <td>2641.0</td>\n",
       "      <td>gray</td>\n",
       "      <td>black</td>\n",
       "      <td>financial services remarketing (lease)</td>\n",
       "      <td>14570.0</td>\n",
       "      <td>13840.0</td>\n",
       "      <td>2014-12-18 04:30:00+00:00</td>\n",
       "    </tr>\n",
       "  </tbody>\n",
       "</table>\n",
       "</div>"
      ],
      "text/plain": [
       "     year   make                model   trim   body transmission  \\\n",
       "0  2015.0    kia              sorento     lx    suv    automatic   \n",
       "1  2015.0    kia              sorento     lx    suv    automatic   \n",
       "2  2014.0    bmw             3 series  other  sedan    automatic   \n",
       "3  2015.0  volvo                  s60     t5  sedan    automatic   \n",
       "4  2014.0    bmw  6 series gran coupe   650i  sedan    automatic   \n",
       "\n",
       "                 vin state  condition  odometer  color interior  \\\n",
       "0  5xyktca69fg566472    ca        5.0   16639.0  white    black   \n",
       "1  5xyktca69fg561319    ca        5.0    9393.0  white    beige   \n",
       "2  wba3c1c51ek116351    ca       45.0    1331.0   gray    black   \n",
       "3  yv1612tb4f1310987    ca       41.0   14282.0  white    black   \n",
       "4  wba6b2c57ed129731    ca       43.0    2641.0   gray    black   \n",
       "\n",
       "                                   seller      mmr  sellingprice  \\\n",
       "0                 kia motors america  inc  20500.0       21500.0   \n",
       "1                 kia motors america  inc  20800.0       21500.0   \n",
       "2  financial services remarketing (lease)  31900.0       30000.0   \n",
       "3                 volvo na rep/world omni  27500.0       27750.0   \n",
       "4  financial services remarketing (lease)  14570.0       13840.0   \n",
       "\n",
       "                   saledate  \n",
       "0 2014-12-16 04:30:00+00:00  \n",
       "1 2014-12-16 04:30:00+00:00  \n",
       "2 2015-01-14 20:30:00+00:00  \n",
       "3 2015-01-28 20:30:00+00:00  \n",
       "4 2014-12-18 04:30:00+00:00  "
      ]
     },
     "execution_count": 3,
     "metadata": {},
     "output_type": "execute_result"
    }
   ],
   "source": [
    "df = pd.read_feather('cleaned_vehicle_data.feather')\n",
    "df.head()"
   ]
  },
  {
   "cell_type": "code",
   "execution_count": 6,
   "id": "3cedac17-3c12-45f5-b757-b0899c403043",
   "metadata": {},
   "outputs": [],
   "source": [
    "# Vehicle Age\n",
    "df['vehicle_age'] = df['saledate'].dt.year - df['year']"
   ]
  },
  {
   "cell_type": "code",
   "execution_count": 5,
   "id": "83d21eb5-d76f-4bc5-a788-d46c637834b2",
   "metadata": {},
   "outputs": [],
   "source": [
    "# Price Deviation from MMR\n",
    "df['price_diff'] = df['sellingprice'] - df['mmr']"
   ]
  },
  {
   "cell_type": "code",
   "execution_count": 7,
   "id": "899c0831-33e2-4241-8560-09eb3cbb6b14",
   "metadata": {},
   "outputs": [],
   "source": [
    "# 3. Season Buckets\n",
    "month_to_season = {\n",
    "    12: 'winter', 1: 'winter', 2: 'winter',\n",
    "    3: 'spring', 4: 'spring', 5: 'summer',\n",
    "    6: 'summer', 7: 'monsoon', 8: 'monsoon',\n",
    "    9: 'fall', 10: 'fall', 11: 'winter'\n",
    "}\n",
    "df['season'] = df['saledate'].dt.month.map(month_to_season)"
   ]
  },
  {
   "cell_type": "code",
   "execution_count": 9,
   "id": "acc3f2b2-575d-4cb9-a72b-7dbd8b0990ca",
   "metadata": {},
   "outputs": [],
   "source": [
    "# 4. High Mileage Flag\n",
    "df['high_mileage'] = df['odometer'] > 100000"
   ]
  },
  {
   "cell_type": "code",
   "execution_count": 16,
   "id": "47043f0c-d70c-459d-b002-8e914299d318",
   "metadata": {},
   "outputs": [],
   "source": [
    "# 5. Condition Binning\n",
    "df['condition_bin'] = pd.cut(df['condition'], bins=[0, 25, 35, 45, 51],\n",
    "                                   labels=['poor', 'fair', 'good', 'excellent'])"
   ]
  },
  {
   "cell_type": "code",
   "execution_count": 11,
   "id": "5f5100e8-c4bc-4386-b16a-48cf07193bd5",
   "metadata": {},
   "outputs": [],
   "source": [
    "# 6. Popular Color Flag\n",
    "popular_colors = ['white', 'black', 'gray', 'silver']\n",
    "df['popular_color'] = df['color'].isin(popular_colors)"
   ]
  },
  {
   "cell_type": "code",
   "execution_count": 12,
   "id": "ec3061f8-909a-467c-80ec-8fff63a944dd",
   "metadata": {},
   "outputs": [],
   "source": [
    "# 7. Luxury Make Flag\n",
    "luxury_makes = ['bmw', 'mercedes-benz', 'audi', 'lexus', 'volvo']\n",
    "df['is_luxury_make'] = df['make'].str.lower().isin(luxury_makes)"
   ]
  },
  {
   "cell_type": "code",
   "execution_count": 13,
   "id": "549816c4-5ccf-4300-992d-2b526bf65d5c",
   "metadata": {},
   "outputs": [],
   "source": [
    "# 8. Interior Type Simplification\n",
    "df['interior_type'] = df['interior'].replace({'unknown': 'other'})\n",
    "df['interior_type'] = df['interior_type'].where(df['interior_type'].isin(['black', 'beige', 'gray']), 'other')"
   ]
  },
  {
   "cell_type": "code",
   "execution_count": 18,
   "id": "a7abb0f2-1ff3-4a7d-b123-15dfe5112a87",
   "metadata": {},
   "outputs": [],
   "source": [
    "# 9. Sale Month Extraction\n",
    "df['sale_month'] = df['sale_month'].astype('Int64')"
   ]
  },
  {
   "cell_type": "code",
   "execution_count": 20,
   "id": "e280b619-1f0b-4149-afda-4b5f577dafe5",
   "metadata": {},
   "outputs": [],
   "source": [
    "df = df.dropna(subset=['saledate'])"
   ]
  },
  {
   "cell_type": "code",
   "execution_count": 24,
   "id": "b837d948-6d16-4761-9d72-53b06cb5f69d",
   "metadata": {},
   "outputs": [],
   "source": [
    "cat_cols = ['make', 'model', 'body', 'color', 'transmission', 'interior_type', 'state', 'season', 'condition_bin']\n",
    "df[cat_cols] = df[cat_cols].astype('category')"
   ]
  },
  {
   "cell_type": "code",
   "execution_count": 25,
   "id": "3d9d46ff-79a0-47d7-ae8b-60b46a678b23",
   "metadata": {},
   "outputs": [
    {
     "name": "stdout",
     "output_type": "stream",
     "text": [
      "<class 'pandas.core.frame.DataFrame'>\n",
      "Index: 546283 entries, 0 to 550296\n",
      "Data columns (total 25 columns):\n",
      " #   Column          Non-Null Count   Dtype              \n",
      "---  ------          --------------   -----              \n",
      " 0   year            546283 non-null  float64            \n",
      " 1   make            546283 non-null  category           \n",
      " 2   model           546283 non-null  category           \n",
      " 3   trim            546283 non-null  object             \n",
      " 4   body            546283 non-null  category           \n",
      " 5   transmission    546283 non-null  category           \n",
      " 6   vin             546283 non-null  object             \n",
      " 7   state           546283 non-null  category           \n",
      " 8   condition       546283 non-null  float64            \n",
      " 9   odometer        546283 non-null  float64            \n",
      " 10  color           546283 non-null  category           \n",
      " 11  interior        546283 non-null  object             \n",
      " 12  seller          546283 non-null  object             \n",
      " 13  mmr             546283 non-null  float64            \n",
      " 14  sellingprice    546283 non-null  float64            \n",
      " 15  saledate        546283 non-null  datetime64[ns, UTC]\n",
      " 16  vehicle_age     546283 non-null  float64            \n",
      " 17  price_diff      546283 non-null  float64            \n",
      " 18  season          546283 non-null  category           \n",
      " 19  high_mileage    546283 non-null  bool               \n",
      " 20  condition_bin   546283 non-null  category           \n",
      " 21  popular_color   546283 non-null  bool               \n",
      " 22  is_luxury_make  546283 non-null  bool               \n",
      " 23  interior_type   546283 non-null  category           \n",
      " 24  sale_month      546283 non-null  Int64              \n",
      "dtypes: Int64(1), bool(3), category(9), datetime64[ns, UTC](1), float64(7), object(4)\n",
      "memory usage: 65.7+ MB\n"
     ]
    }
   ],
   "source": [
    "df.info()"
   ]
  },
  {
   "cell_type": "code",
   "execution_count": 26,
   "id": "3f279c99-f980-472f-9d30-50a63fa2fb6e",
   "metadata": {},
   "outputs": [
    {
     "name": "stderr",
     "output_type": "stream",
     "text": [
      "/tmp/ipykernel_231/2511342992.py:4: FutureWarning: The default of observed=False is deprecated and will be changed to True in a future version of pandas. Pass observed=False to retain current behavior or observed=True to adopt the future default and silence this warning.\n",
      "  season_groups = [group['sellingprice'].values for name, group in df.groupby('season')]\n"
     ]
    },
    {
     "name": "stdout",
     "output_type": "stream",
     "text": [
      "F-statistic: 756.06\n",
      "P-value: 0.0000\n",
      "Statistically significant difference in selling prices across seasons.\n"
     ]
    }
   ],
   "source": [
    "from scipy.stats import f_oneway\n",
    "\n",
    "# Group selling prices by season\n",
    "season_groups = [group['sellingprice'].values for name, group in df.groupby('season')]\n",
    "\n",
    "f_stat, p_val = f_oneway(*season_groups)\n",
    "\n",
    "print(f\"F-statistic: {f_stat:.2f}\")\n",
    "print(f\"P-value: {p_val:.4f}\")\n",
    "\n",
    "if p_val < 0.05:\n",
    "    print(\"Statistically significant difference in selling prices across seasons.\")\n",
    "else:\n",
    "    print(\"No statistically significant difference in selling prices across seasons.\")"
   ]
  },
  {
   "cell_type": "markdown",
   "id": "066e833a-2ece-4b1f-8e30-7653fc9b3427",
   "metadata": {},
   "source": [
    "### ANOVA Results: Selling Price by Season\n",
    "\n",
    "The one-way ANOVA test yielded the following results:\n",
    "\n",
    "- **F-statistic**: 756.06  \n",
    "- **P-value**: 0.0000\n",
    "\n",
    "This indicates a **statistically significant difference** in mean selling prices across seasons. In other words, the time of year when a vehicle is sold has a measurable impact on its price.\n",
    "\n",
    "This insight supports the inclusion of `season` as a predictive feature in modelling and suggests that pricing strategies should account for seasonal trends."
   ]
  },
  {
   "cell_type": "code",
   "execution_count": 27,
   "id": "46075fe6-b185-44b3-b975-d293a8860909",
   "metadata": {},
   "outputs": [
    {
     "name": "stderr",
     "output_type": "stream",
     "text": [
      "/tmp/ipykernel_231/2484009292.py:2: FutureWarning: The default of observed=False is deprecated and will be changed to True in a future version of pandas. Pass observed=False to retain current behavior or observed=True to adopt the future default and silence this warning.\n",
      "  condition_groups = [group['sellingprice'].values for name, group in df.groupby('condition_bin')]\n"
     ]
    },
    {
     "name": "stdout",
     "output_type": "stream",
     "text": [
      "F-statistic: 40431.41\n",
      "P-value: 0.0000\n",
      "Statistically significant difference in selling prices across condition bins.\n"
     ]
    }
   ],
   "source": [
    "# Group selling prices by condition_bin\n",
    "condition_groups = [group['sellingprice'].values for name, group in df.groupby('condition_bin')]\n",
    "\n",
    "f_stat, p_val = f_oneway(*condition_groups)\n",
    "\n",
    "print(f\"F-statistic: {f_stat:.2f}\")\n",
    "print(f\"P-value: {p_val:.4f}\")\n",
    "\n",
    "if p_val < 0.05:\n",
    "    print(\"Statistically significant difference in selling prices across condition bins.\")\n",
    "else:\n",
    "    print(\"No statistically significant difference in selling prices across condition bins.\")"
   ]
  },
  {
   "cell_type": "markdown",
   "id": "66084e8d-333a-430d-a900-d77ffd135b71",
   "metadata": {},
   "source": [
    "### ANOVA Results: Selling Price by Condition\n",
    "\n",
    "The one-way ANOVA test yielded the following results:\n",
    "\n",
    "- **F-statistic**: 40,431.41  \n",
    "- **P-value**: 0.0000\n",
    "\n",
    "This confirms a **statistically significant difference** in mean selling prices across vehicle condition bins (`poor`, `fair`, `good`, `excellent`). In other words, vehicle condition is a strong driver of price variation.\n",
    "\n",
    "This insight supports the inclusion of `condition_bin` as a key feature in modeling and pricing strategy. It also opens the door for interaction features — such as combining condition with brand or interior type — to capture compound effects."
   ]
  },
  {
   "cell_type": "code",
   "execution_count": 28,
   "id": "264283a3-701a-4de1-a753-a617181619c7",
   "metadata": {},
   "outputs": [
    {
     "name": "stdout",
     "output_type": "stream",
     "text": [
      "T-statistic: 57.27\n",
      "P-value: 0.0000\n",
      "Statistically significant difference in selling prices between popular and non-popular colors.\n"
     ]
    }
   ],
   "source": [
    "from scipy.stats import ttest_ind\n",
    "\n",
    "# Split selling prices by popular_color flag\n",
    "popular_prices = df[df['popular_color'] == True]['sellingprice']\n",
    "nonpopular_prices = df[df['popular_color'] == False]['sellingprice']\n",
    "\n",
    "t_stat, p_val = ttest_ind(popular_prices, nonpopular_prices, equal_var=False)\n",
    "\n",
    "print(f\"T-statistic: {t_stat:.2f}\")\n",
    "print(f\"P-value: {p_val:.4f}\")\n",
    "\n",
    "if p_val < 0.05:\n",
    "    print(\"Statistically significant difference in selling prices between popular and non-popular colors.\")\n",
    "else:\n",
    "    print(\"No statistically significant difference in selling prices between popular and non-popular colors.\")"
   ]
  },
  {
   "cell_type": "markdown",
   "id": "390e1d4a-a875-4c9b-9b5c-1c16cb9c6864",
   "metadata": {},
   "source": [
    "### t-Test Results: Selling Price by Popular Color\n",
    "\n",
    "The two-sample t-test comparing selling prices between popular and non-popular vehicle colours yielded:\n",
    "\n",
    "- **T-statistic**: 57.27  \n",
    "- **P-value**: 0.0000\n",
    "\n",
    "This confirms a **statistically significant difference** in mean selling prices between the two groups. Vehicles with popular colours (`white`, `black`, `gray`, `silver`) tend to sell at different price points compared to those with less common colours.\n",
    "\n",
    "This insight supports the inclusion of `popular_color` as a binary feature in modelling and suggests that colour preference plays a role in buyer behaviour and market valuation."
   ]
  },
  {
   "cell_type": "code",
   "execution_count": 29,
   "id": "eb815162-8113-49ed-9c7c-c5fd0e63e605",
   "metadata": {},
   "outputs": [
    {
     "name": "stdout",
     "output_type": "stream",
     "text": [
      "T-statistic: 102.99\n",
      "P-value: 0.0000\n",
      "Statistically significant difference in selling prices between luxury and non-luxury brands.\n"
     ]
    }
   ],
   "source": [
    "# Split selling prices by luxury brand flag\n",
    "luxury_prices = df[df['is_luxury_make'] == True]['sellingprice']\n",
    "nonluxury_prices = df[df['is_luxury_make'] == False]['sellingprice']\n",
    "\n",
    "t_stat, p_val = ttest_ind(luxury_prices, nonluxury_prices, equal_var=False)\n",
    "\n",
    "print(f\"T-statistic: {t_stat:.2f}\")\n",
    "print(f\"P-value: {p_val:.4f}\")\n",
    "\n",
    "if p_val < 0.05:\n",
    "    print(\"Statistically significant difference in selling prices between luxury and non-luxury brands.\")\n",
    "else:\n",
    "    print(\"No statistically significant difference in selling prices between luxury and non-luxury brands.\")"
   ]
  },
  {
   "cell_type": "markdown",
   "id": "54e7eb8c-683a-4cf1-bb16-5d97d893a900",
   "metadata": {},
   "source": [
    "### t-Test Results: Selling Price by Luxury Brand\n",
    "\n",
    "The two-sample t-test comparing selling prices between luxury and non-luxury vehicle brands yielded:\n",
    "\n",
    "- **T-statistic**: 102.99  \n",
    "- **P-value**: 0.0000\n",
    "\n",
    "This confirms a **statistically significant difference** in mean selling prices between the two groups. Luxury brands (`BMW`, `Mercedes-Benz`, `Audi`, `Lexus`, `Volvo`) consistently sell at different price points than non-luxury brands.\n",
    "\n",
    "This insight supports the inclusion of `is_luxury_make` as a binary feature in modeling and highlights the role of brand prestige in market valuation."
   ]
  },
  {
   "cell_type": "code",
   "execution_count": 31,
   "id": "031d6491-9036-4da9-85a3-ff4cb9f50888",
   "metadata": {},
   "outputs": [
    {
     "data": {
      "text/plain": [
       "luxury_condition\n",
       "False_good         170726\n",
       "False_poor         140995\n",
       "False_fair         132437\n",
       "False_excellent     44024\n",
       "True_good           23984\n",
       "Name: count, dtype: int64"
      ]
     },
     "execution_count": 31,
     "metadata": {},
     "output_type": "execute_result"
    }
   ],
   "source": [
    "# Create interaction feature\n",
    "df['luxury_condition'] = df['is_luxury_make'].astype(str) + \"_\" + df['condition_bin'].astype(str)\n",
    "\n",
    "# Cast to category for memory efficiency\n",
    "df['luxury_condition'] = df['luxury_condition'].astype('category')\n",
    "\n",
    "df['luxury_condition'].value_counts().head()"
   ]
  },
  {
   "cell_type": "code",
   "execution_count": 32,
   "id": "e1166073-6ada-47aa-91ce-be5b725afbc3",
   "metadata": {},
   "outputs": [
    {
     "name": "stderr",
     "output_type": "stream",
     "text": [
      "/tmp/ipykernel_231/3184106952.py:2: FutureWarning: The default of observed=False is deprecated and will be changed to True in a future version of pandas. Pass observed=False to retain current behavior or observed=True to adopt the future default and silence this warning.\n",
      "  lux_cond_groups = [group['sellingprice'].values for name, group in df.groupby('luxury_condition')]\n"
     ]
    },
    {
     "name": "stdout",
     "output_type": "stream",
     "text": [
      "F-statistic: 20253.36\n",
      "P-value: 0.0000\n",
      "Statistically significant difference in selling prices across luxury-condition combinations.\n"
     ]
    }
   ],
   "source": [
    "# Group selling prices by luxury_condition\n",
    "lux_cond_groups = [group['sellingprice'].values for name, group in df.groupby('luxury_condition')]\n",
    "\n",
    "f_stat, p_val = f_oneway(*lux_cond_groups)\n",
    "\n",
    "print(f\"F-statistic: {f_stat:.2f}\")\n",
    "print(f\"P-value: {p_val:.4f}\")\n",
    "\n",
    "if p_val < 0.05:\n",
    "    print(\"Statistically significant difference in selling prices across luxury-condition combinations.\")\n",
    "else:\n",
    "    print(\"No statistically significant difference in selling prices across luxury-condition combinations.\")"
   ]
  },
  {
   "cell_type": "markdown",
   "id": "d1686f3f-877d-4ee4-bf15-80fc0f7a1f42",
   "metadata": {},
   "source": [
    "### ANOVA Results: Selling Price by Luxury × Condition\n",
    "\n",
    "The one-way ANOVA test comparing selling prices across the `luxury_condition` interaction groups yielded:\n",
    "\n",
    "- **F-statistic**: 20,253.36  \n",
    "- **P-value**: 0.0000\n",
    "\n",
    "This confirms a **statistically significant difference** in mean selling prices across combinations of brand prestige and vehicle condition. In other words, the impact of vehicle condition on price is not uniform — it varies depending on whether the vehicle is a luxury brand.\n",
    "\n",
    "This insight supports the inclusion of `luxury_condition` as an interaction feature in modelling and highlights the importance of compound effects in pricing strategy."
   ]
  },
  {
   "cell_type": "code",
   "execution_count": 33,
   "id": "3a0c1a5e-ef0b-425d-840e-027469ed1aad",
   "metadata": {},
   "outputs": [
    {
     "data": {
      "text/plain": [
       "season_state\n",
       "winter_ca    50000\n",
       "winter_fl    49135\n",
       "winter_pa    31834\n",
       "winter_tx    28432\n",
       "summer_fl    23427\n",
       "Name: count, dtype: int64"
      ]
     },
     "execution_count": 33,
     "metadata": {},
     "output_type": "execute_result"
    }
   ],
   "source": [
    "# Create interaction feature\n",
    "df['season_state'] = df['season'].astype(str) + \"_\" + df['state'].astype(str)\n",
    "\n",
    "# Cast to category\n",
    "df['season_state'] = df['season_state'].astype('category')\n",
    "\n",
    "df['season_state'].value_counts().head()"
   ]
  },
  {
   "cell_type": "code",
   "execution_count": 34,
   "id": "371ca80e-83ea-4394-8a5c-34dba86845ad",
   "metadata": {},
   "outputs": [
    {
     "name": "stderr",
     "output_type": "stream",
     "text": [
      "/tmp/ipykernel_231/490960263.py:2: FutureWarning: The default of observed=False is deprecated and will be changed to True in a future version of pandas. Pass observed=False to retain current behavior or observed=True to adopt the future default and silence this warning.\n",
      "  season_state_groups = [group['sellingprice'].values for name, group in df.groupby('season_state')]\n"
     ]
    },
    {
     "name": "stdout",
     "output_type": "stream",
     "text": [
      "F-statistic: 261.27\n",
      "P-value: 0.0000\n",
      "Statistically significant difference in selling prices across season-state combinations.\n"
     ]
    }
   ],
   "source": [
    "# Group selling prices by season_state\n",
    "season_state_groups = [group['sellingprice'].values for name, group in df.groupby('season_state')]\n",
    "\n",
    "f_stat, p_val = f_oneway(*season_state_groups)\n",
    "\n",
    "print(f\"F-statistic: {f_stat:.2f}\")\n",
    "print(f\"P-value: {p_val:.4f}\")\n",
    "\n",
    "if p_val < 0.05:\n",
    "    print(\"Statistically significant difference in selling prices across season-state combinations.\")\n",
    "else:\n",
    "    print(\"No statistically significant difference in selling prices across season-state combinations.\")"
   ]
  },
  {
   "cell_type": "markdown",
   "id": "59a50e39-1f76-4989-b850-222abe8d1a98",
   "metadata": {},
   "source": [
    "### ANOVA Results: Selling Price by Season × State\n",
    "\n",
    "The one-way ANOVA test comparing selling prices across `season_state` interaction groups yielded:\n",
    "\n",
    "- **F-statistic**: 261.27  \n",
    "- **P-value**: 0.0000\n",
    "\n",
    "This confirms a **statistically significant difference** in mean selling prices across combinations of season and state. In other words, seasonal pricing trends vary by region — a critical insight for location-aware pricing models and regional strategy."
   ]
  },
  {
   "cell_type": "code",
   "execution_count": 35,
   "id": "28445560-8423-4edb-b8e9-e2fed14f53d9",
   "metadata": {},
   "outputs": [
    {
     "data": {
      "text/plain": [
       "count    546283.000000\n",
       "mean      11620.280519\n",
       "std        5640.416067\n",
       "min           0.055556\n",
       "25%        7774.236111\n",
       "50%       10877.369318\n",
       "75%       14669.873016\n",
       "max      100449.000000\n",
       "Name: age_mileage_ratio, dtype: float64"
      ]
     },
     "execution_count": 35,
     "metadata": {},
     "output_type": "execute_result"
    }
   ],
   "source": [
    "# Create age-mileage ratio\n",
    "df['age_mileage_ratio'] = df['odometer'] / (df['vehicle_age'] + 1)\n",
    "\n",
    "# Handle infinite or NaN values\n",
    "df['age_mileage_ratio'].replace([np.inf, -np.inf], np.nan, inplace=True)\n",
    "df['age_mileage_ratio'].fillna(df['age_mileage_ratio'].median(), inplace=True)\n",
    "\n",
    "df['age_mileage_ratio'].describe()"
   ]
  },
  {
   "cell_type": "code",
   "execution_count": 36,
   "id": "294d4529-aa98-45a8-9b87-712a0af27c75",
   "metadata": {},
   "outputs": [
    {
     "name": "stdout",
     "output_type": "stream",
     "text": [
      "Correlation coefficient: -0.1434\n",
      "P-value: 0.0000\n",
      "Statistically significant correlation between age-mileage ratio and selling price.\n"
     ]
    }
   ],
   "source": [
    "from scipy.stats import pearsonr\n",
    "\n",
    "# Run Pearson correlation\n",
    "corr_coef, p_val = pearsonr(df['age_mileage_ratio'], df['sellingprice'])\n",
    "\n",
    "print(f\"Correlation coefficient: {corr_coef:.4f}\")\n",
    "print(f\"P-value: {p_val:.4f}\")\n",
    "\n",
    "if p_val < 0.05:\n",
    "    print(\"Statistically significant correlation between age-mileage ratio and selling price.\")\n",
    "else:\n",
    "    print(\"No statistically significant correlation between age-mileage ratio and selling price.\")"
   ]
  },
  {
   "cell_type": "markdown",
   "id": "3e1c959e-dc41-4647-bec7-fc2011594293",
   "metadata": {},
   "source": [
    "### Correlation Results: Age-Mileage Ratio vs. Selling Price\n",
    "\n",
    "The Pearson correlation test between `age_mileage_ratio` and `sellingprice` yielded:\n",
    "\n",
    "- **Correlation coefficient**: -0.1434\n",
    "- **P-value**: 0.0000\n",
    "\n",
    "This indicates a **statistically significant negative correlation** — vehicles with higher mileage relative to age tend to sell for lower prices. This validates `age_mileage_ratio` as a meaningful continuous feature for modelling depreciation and wear-and-tear."
   ]
  },
  {
   "cell_type": "code",
   "execution_count": 39,
   "id": "61e2243a-6d61-42a0-b859-bc6e203abb48",
   "metadata": {},
   "outputs": [
    {
     "data": {
      "text/plain": [
       "mmr                  0.972630\n",
       "price_diff           0.182097\n",
       "sale_month          -0.044943\n",
       "age_mileage_ratio   -0.143361\n",
       "odometer            -0.624225\n",
       "vehicle_age         -0.633517\n",
       "Name: sellingprice, dtype: float64"
      ]
     },
     "execution_count": 39,
     "metadata": {},
     "output_type": "execute_result"
    }
   ],
   "source": [
    "# Select continuous features\n",
    "cont_features = ['odometer', 'vehicle_age', 'price_diff', 'age_mileage_ratio', 'sellingprice', 'mmr', 'sale_month' ]\n",
    "\n",
    "# Compute correlation matrix\n",
    "corr_matrix = df[cont_features].corr()\n",
    "\n",
    "# Display sorted correlations with sellingprice\n",
    "corr_with_price = corr_matrix['sellingprice'].drop('sellingprice').sort_values(ascending=False)\n",
    "corr_with_price"
   ]
  },
  {
   "cell_type": "markdown",
   "id": "5672d35c-165f-4643-970e-24ac6849d5a5",
   "metadata": {},
   "source": [
    "### Correlation Summary: Continuous Features vs. Selling Price\n",
    "\n",
    "We computed Pearson correlation coefficients between `sellingprice` and all candidate continuous features. This helps identify which numeric predictors have strong linear relationships with price.\n",
    "\n",
    "| Feature             | Correlation | Interpretation |\n",
    "|---------------------|-------------|----------------|\n",
    "| `mmr`               | +0.97       | Strong positive correlation — vehicles priced above MMR tend to sell higher. |\n",
    "| `price_diff`        | +0.18       | Mild positive correlation — larger price gaps may reflect premium listings. |\n",
    "| `sale_month`        | -0.04       | Negligible correlation — month of sale has minimal linear impact. |\n",
    "| `age_mileage_ratio` | -0.14       | Mild negative correlation — higher wear per year lowers price. |\n",
    "| `odometer`          | -0.62       | Strong negative correlation — higher mileage reduces price. |\n",
    "| `vehicle_age`       | -0.63       | Strong negative correlation — older vehicles sell for less. |\n",
    "\n",
    "### Takeaways:\n",
    "- `mmr`, `odometer`, and `vehicle_age` are high-impact continuous features.\n",
    "- `price_diff` and `age_mileage_ratio` offer a moderate signal and may capture nuanced effects.\n",
    "- `sale_month` shows weak correlation and may be better modelled as categorical or seasonal."
   ]
  },
  {
   "cell_type": "code",
   "execution_count": 41,
   "id": "64f0ec5e-5c7b-4ae8-a16b-d25bb1600687",
   "metadata": {},
   "outputs": [
    {
     "name": "stdout",
     "output_type": "stream",
     "text": [
      "is_luxury_make      20.653857\n",
      "condition_bin       13.305771\n",
      "luxury_condition    12.910421\n",
      "popular_color        2.445462\n",
      "season_state         1.563857\n",
      "season               1.542463\n",
      "dtype: float64\n"
     ]
    }
   ],
   "source": [
    "from sklearn.feature_selection import SelectKBest, f_classif\n",
    "from sklearn.preprocessing import LabelEncoder\n",
    "\n",
    "# Encode categorical features numerically\n",
    "cat_features = ['season', 'condition_bin', 'popular_color', 'is_luxury_make', 'luxury_condition', 'season_state']\n",
    "X_cat = df[cat_features].apply(LabelEncoder().fit_transform)\n",
    "y = df['sellingprice']\n",
    "\n",
    "# Run ANOVA F-test\n",
    "selector = SelectKBest(score_func=f_classif, k='all')\n",
    "selector.fit(X_cat, y)\n",
    "\n",
    "# Display scores\n",
    "f_scores = selector.scores_\n",
    "feature_scores = pd.Series(f_scores, index=cat_features).sort_values(ascending=False)\n",
    "print(feature_scores)"
   ]
  },
  {
   "cell_type": "markdown",
   "id": "a53fcc11-8df6-4b04-9412-a4f13d235cf2",
   "metadata": {},
   "source": [
    "### ANOVA F-Test Scores: Categorical Features vs. Selling Price\n",
    "\n",
    "We computed ANOVA F-test scores to evaluate how much each categorical feature explains variance in the target variable `sellingprice`.\n",
    "\n",
    "| Feature            | F-Score | Interpretation |\n",
    "|--------------------|---------|----------------|\n",
    "| `is_luxury_make`   | 20.65   | Strong signal — luxury brand status is a key price driver. |\n",
    "| `condition_bin`    | 13.31   | High impact — vehicle condition strongly influences price. |\n",
    "| `luxury_condition` | 12.91   | Compound effect — brand × condition interaction adds value. |\n",
    "| `popular_color`    | 2.45    | Mild signal — color preference has some pricing influence. |\n",
    "| `season_state`     | 1.56    | Weak signal — regional seasonality may be noisy. |\n",
    "| `season`           | 1.54    | Weak signal — season alone has limited explanatory power. |\n",
    "\n",
    "### Takeaways:\n",
    "- `is_luxury_make`, `condition_bin`, and `luxury_condition` are high-impact categorical features.\n",
    "- `popular_color` offers a moderate signal and may be useful in combination.\n",
    "- `season_state` and `season` show weak standalone impact — consider using them only in interaction terms."
   ]
  },
  {
   "cell_type": "code",
   "execution_count": 45,
   "id": "016c60cd-6c86-4a31-a9cc-e24d96a40a7a",
   "metadata": {},
   "outputs": [],
   "source": [
    "# Define selected features\n",
    "selected_features = [\n",
    "    'mmr', 'vehicle_age', 'odometer', 'price_diff', 'age_mileage_ratio',\n",
    "    'is_luxury_make', 'condition_bin', 'luxury_condition', 'popular_color',\n",
    "    'sellingprice'\n",
    "]\n",
    "\n",
    "df[selected_features].to_feather('model_ready_data.feather')"
   ]
  },
  {
   "cell_type": "code",
   "execution_count": null,
   "id": "b0d16e46-0264-4f36-abb9-a71b3052793b",
   "metadata": {},
   "outputs": [],
   "source": []
  }
 ],
 "metadata": {
  "kernelspec": {
   "display_name": "anaconda-2024.02-py310",
   "language": "python",
   "name": "conda-env-anaconda-2024.02-py310-py"
  },
  "language_info": {
   "codemirror_mode": {
    "name": "ipython",
    "version": 3
   },
   "file_extension": ".py",
   "mimetype": "text/x-python",
   "name": "python",
   "nbconvert_exporter": "python",
   "pygments_lexer": "ipython3",
   "version": "3.10.14"
  }
 },
 "nbformat": 4,
 "nbformat_minor": 5
}
